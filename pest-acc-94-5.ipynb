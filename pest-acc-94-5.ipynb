{
 "cells": [
  {
   "cell_type": "code",
   "execution_count": 3,
   "metadata": {
    "_cell_guid": "b1076dfc-b9ad-4769-8c92-a6c4dae69d19",
    "_uuid": "8f2839f25d086af736a60e9eeb907d3b93b6e0e5",
    "execution": {
     "iopub.execute_input": "2021-09-03T13:58:17.379502Z",
     "iopub.status.busy": "2021-09-03T13:58:17.379089Z",
     "iopub.status.idle": "2021-09-03T13:58:19.174471Z",
     "shell.execute_reply": "2021-09-03T13:58:19.173643Z",
     "shell.execute_reply.started": "2021-09-03T13:58:17.379409Z"
    }
   },
   "outputs": [
    {
     "ename": "ModuleNotFoundError",
     "evalue": "No module named 'matplotlib'",
     "output_type": "error",
     "traceback": [
      "\u001b[1;31m---------------------------------------------------------------------------\u001b[0m",
      "\u001b[1;31mModuleNotFoundError\u001b[0m                       Traceback (most recent call last)",
      "Input \u001b[1;32mIn [3]\u001b[0m, in \u001b[0;36m<cell line: 3>\u001b[1;34m()\u001b[0m\n\u001b[0;32m      1\u001b[0m \u001b[38;5;28;01mimport\u001b[39;00m \u001b[38;5;21;01mnumpy\u001b[39;00m \u001b[38;5;28;01mas\u001b[39;00m \u001b[38;5;21;01mnp\u001b[39;00m\n\u001b[0;32m      2\u001b[0m \u001b[38;5;28;01mimport\u001b[39;00m \u001b[38;5;21;01mpandas\u001b[39;00m \u001b[38;5;28;01mas\u001b[39;00m \u001b[38;5;21;01mpd\u001b[39;00m\n\u001b[1;32m----> 3\u001b[0m \u001b[38;5;28;01mimport\u001b[39;00m \u001b[38;5;21;01mmatplotlib\u001b[39;00m\u001b[38;5;21;01m.\u001b[39;00m\u001b[38;5;21;01mpyplot\u001b[39;00m \u001b[38;5;28;01mas\u001b[39;00m \u001b[38;5;21;01mplt\u001b[39;00m\n\u001b[0;32m      4\u001b[0m \u001b[38;5;28;01mimport\u001b[39;00m \u001b[38;5;21;01mseaborn\u001b[39;00m \u001b[38;5;28;01mas\u001b[39;00m \u001b[38;5;21;01msns\u001b[39;00m\n\u001b[0;32m      5\u001b[0m \u001b[38;5;28;01mimport\u001b[39;00m \u001b[38;5;21;01mcv2\u001b[39;00m\n",
      "\u001b[1;31mModuleNotFoundError\u001b[0m: No module named 'matplotlib'"
     ]
    }
   ],
   "source": [
    "import numpy as np\n",
    "import pandas as pd\n",
    "import matplotlib.pyplot as plt\n",
    "import seaborn as sns\n",
    "import cv2\n",
    "import os\n",
    "import glob as gb\n",
    "import tensorflow as tf\n",
    "from keras.models import Sequential\n",
    "from keras.layers import Dense ,Flatten ,Conv2D ,MaxPooling2D ,Dropout ,BatchNormalization\n",
    "from tensorflow.keras.optimizers import Adam \n",
    "from keras.callbacks import EarlyStopping ,ReduceLROnPlateau , ModelCheckpoint\n",
    "from keras.applications.mobilenet import MobileNet ,preprocess_input"
   ]
  },
  {
   "cell_type": "code",
   "execution_count": null,
   "metadata": {
    "execution": {
     "iopub.execute_input": "2021-09-03T13:58:21.189499Z",
     "iopub.status.busy": "2021-09-03T13:58:21.189121Z",
     "iopub.status.idle": "2021-09-03T13:58:21.438346Z",
     "shell.execute_reply": "2021-09-03T13:58:21.437353Z",
     "shell.execute_reply.started": "2021-09-03T13:58:21.189448Z"
    }
   },
   "outputs": [],
   "source": [
    "img=cv2.imread(r'D:\\loki\\insect monitoring\\New folder\\New folder/pest/train/aphids/jpg_0 - Copy (2).jpg')\n",
    "plt.imshow(img)\n",
    "plt.show()\n"
   ]
  },
  {
   "cell_type": "code",
   "execution_count": null,
   "metadata": {
    "execution": {
     "iopub.execute_input": "2021-09-03T13:58:22.747934Z",
     "iopub.status.busy": "2021-09-03T13:58:22.747607Z",
     "iopub.status.idle": "2021-09-03T13:58:22.754281Z",
     "shell.execute_reply": "2021-09-03T13:58:22.753299Z",
     "shell.execute_reply.started": "2021-09-03T13:58:22.747903Z"
    }
   },
   "outputs": [],
   "source": [
    "img=np.array(img)\n",
    "img.shape"
   ]
  },
  {
   "cell_type": "code",
   "execution_count": null,
   "metadata": {
    "execution": {
     "iopub.execute_input": "2021-09-03T14:00:02.361653Z",
     "iopub.status.busy": "2021-09-03T14:00:02.361280Z",
     "iopub.status.idle": "2021-09-03T14:00:02.801319Z",
     "shell.execute_reply": "2021-09-03T14:00:02.800490Z",
     "shell.execute_reply.started": "2021-09-03T14:00:02.361622Z"
    }
   },
   "outputs": [],
   "source": [
    "train_dir=r'D:\\loki\\insect monitoring\\New folder\\New folder\\pest/train/'\n",
    "test_dir=r'D:\\loki\\insect monitoring\\New folder\\New folder\\pest/test/'\n",
    "\n",
    "\n",
    "\n",
    "training=tf.keras.preprocessing.image.ImageDataGenerator(\n",
    "    zca_epsilon=1e-06,\n",
    "    rotation_range=30,\n",
    "    width_shift_range=0.1,\n",
    "    height_shift_range=0.1,\n",
    "    shear_range=0.1,\n",
    "    zoom_range=0.1,\n",
    "    fill_mode=\"nearest\",\n",
    "    horizontal_flip=True,\n",
    "    vertical_flip=True,\n",
    "    preprocessing_function=preprocess_input,\n",
    "    validation_split=0.05\n",
    ").flow_from_directory(train_dir,batch_size=16,target_size=(224,224),subset=\"training\")\n",
    "\n",
    "validing=tf.keras.preprocessing.image.ImageDataGenerator(\n",
    "    rotation_range=30,\n",
    "    width_shift_range=0.1,\n",
    "    height_shift_range=0.1,\n",
    "    shear_range=0.1,\n",
    "    zoom_range=0.1,\n",
    "    fill_mode=\"nearest\",\n",
    "    horizontal_flip=True,\n",
    "    vertical_flip=True,\n",
    "    preprocessing_function=preprocess_input,\n",
    "    validation_split=0.05\n",
    ").flow_from_directory(train_dir,batch_size=16,target_size=(224,224),subset='validation',shuffle=True)\n",
    "\n",
    "testing=tf.keras.preprocessing.image.ImageDataGenerator(\n",
    "    preprocessing_function=preprocess_input,\n",
    ").flow_from_directory(test_dir,batch_size=16,target_size=(224,224),shuffle=True)\n"
   ]
  },
  {
   "cell_type": "code",
   "execution_count": null,
   "metadata": {
    "execution": {
     "iopub.execute_input": "2021-09-03T14:08:02.195258Z",
     "iopub.status.busy": "2021-09-03T14:08:02.194920Z",
     "iopub.status.idle": "2021-09-03T14:08:02.707866Z",
     "shell.execute_reply": "2021-09-03T14:08:02.706933Z",
     "shell.execute_reply.started": "2021-09-03T14:08:02.195226Z"
    }
   },
   "outputs": [],
   "source": [
    "mobilenet=MobileNet(include_top=False,weights='imagenet',input_shape=(224,224,3))"
   ]
  },
  {
   "cell_type": "code",
   "execution_count": null,
   "metadata": {
    "execution": {
     "iopub.execute_input": "2021-09-03T13:58:34.208844Z",
     "iopub.status.busy": "2021-09-03T13:58:34.208500Z",
     "iopub.status.idle": "2021-09-03T13:58:34.214902Z",
     "shell.execute_reply": "2021-09-03T13:58:34.213789Z",
     "shell.execute_reply.started": "2021-09-03T13:58:34.208812Z"
    }
   },
   "outputs": [],
   "source": [
    "optimizer=Adam(lr=0.001,beta_1=0.9,beta_2=0.99)"
   ]
  },
  {
   "cell_type": "code",
   "execution_count": null,
   "metadata": {
    "execution": {
     "iopub.execute_input": "2021-09-03T14:19:10.303908Z",
     "iopub.status.busy": "2021-09-03T14:19:10.303570Z",
     "iopub.status.idle": "2021-09-03T14:19:10.308211Z",
     "shell.execute_reply": "2021-09-03T14:19:10.307407Z",
     "shell.execute_reply.started": "2021-09-03T14:19:10.303877Z"
    }
   },
   "outputs": [],
   "source": [
    "EarlyStop=EarlyStopping(patience=10,restore_best_weights=True)\n",
    "Reduce_LR=ReduceLROnPlateau(monitor='val_acc',verbose=2,factor=0.5,min_lr=0.00001)\n",
    "callback=[EarlyStop , Reduce_LR]\n",
    "#model_check=ModelCheckpoint('model.hdf5',monitor='val_loss',verbose=1,save_best_only=True)\n",
    "#callback=[EarlyStop , Reduce_LR,model_check]"
   ]
  },
  {
   "cell_type": "code",
   "execution_count": null,
   "metadata": {
    "execution": {
     "iopub.execute_input": "2021-09-03T14:08:05.570645Z",
     "iopub.status.busy": "2021-09-03T14:08:05.570286Z",
     "iopub.status.idle": "2021-09-03T14:08:05.578038Z",
     "shell.execute_reply": "2021-09-03T14:08:05.577144Z",
     "shell.execute_reply.started": "2021-09-03T14:08:05.570614Z"
    }
   },
   "outputs": [],
   "source": [
    "mobilenet.trainable=False"
   ]
  },
  {
   "cell_type": "code",
   "execution_count": null,
   "metadata": {
    "execution": {
     "iopub.execute_input": "2021-09-03T14:17:50.186516Z",
     "iopub.status.busy": "2021-09-03T14:17:50.186176Z",
     "iopub.status.idle": "2021-09-03T14:17:50.414207Z",
     "shell.execute_reply": "2021-09-03T14:17:50.413423Z",
     "shell.execute_reply.started": "2021-09-03T14:17:50.186487Z"
    }
   },
   "outputs": [],
   "source": [
    "model=Sequential([\n",
    "    mobilenet,\n",
    "    MaxPooling2D(3,2),\n",
    "    Flatten(),\n",
    "    Dense(128,activation='relu'),\n",
    "    BatchNormalization(),\n",
    "    Dense(1024,activation='relu'),\n",
    "    BatchNormalization(),\n",
    "    Dense(512,activation='relu'),\n",
    "    BatchNormalization(),\n",
    "    Dense(9,activation='softmax')\n",
    "])"
   ]
  },
  {
   "cell_type": "code",
   "execution_count": null,
   "metadata": {
    "execution": {
     "iopub.execute_input": "2021-09-03T14:17:51.193758Z",
     "iopub.status.busy": "2021-09-03T14:17:51.193451Z",
     "iopub.status.idle": "2021-09-03T14:17:51.212072Z",
     "shell.execute_reply": "2021-09-03T14:17:51.211185Z",
     "shell.execute_reply.started": "2021-09-03T14:17:51.193731Z"
    }
   },
   "outputs": [],
   "source": [
    "model.summary()"
   ]
  },
  {
   "cell_type": "code",
   "execution_count": null,
   "metadata": {
    "execution": {
     "iopub.execute_input": "2021-09-03T14:17:51.902411Z",
     "iopub.status.busy": "2021-09-03T14:17:51.902096Z",
     "iopub.status.idle": "2021-09-03T14:17:51.916117Z",
     "shell.execute_reply": "2021-09-03T14:17:51.915227Z",
     "shell.execute_reply.started": "2021-09-03T14:17:51.902368Z"
    }
   },
   "outputs": [],
   "source": [
    "model.compile(optimizer=optimizer,loss='categorical_crossentropy', metrics=[\"accuracy\"])"
   ]
  },
  {
   "cell_type": "code",
   "execution_count": null,
   "metadata": {
    "execution": {
     "iopub.execute_input": "2021-09-03T14:32:11.028238Z",
     "iopub.status.busy": "2021-09-03T14:32:11.027904Z",
     "iopub.status.idle": "2021-09-03T14:32:48.530045Z",
     "shell.execute_reply": "2021-09-03T14:32:48.529166Z",
     "shell.execute_reply.started": "2021-09-03T14:32:11.028208Z"
    }
   },
   "outputs": [],
   "source": [
    "history=model.fit(training,validation_data=validing,epochs=20,batch_size=16,\n",
    "                  steps_per_epoch=len(training) // 16,validation_steps=len(validing) // 8,\n",
    "                  callbacks=callback, verbose=2)"
   ]
  },
  {
   "cell_type": "code",
   "execution_count": null,
   "metadata": {
    "execution": {
     "iopub.execute_input": "2021-09-03T14:32:48.531929Z",
     "iopub.status.busy": "2021-09-03T14:32:48.531580Z",
     "iopub.status.idle": "2021-09-03T14:32:50.337275Z",
     "shell.execute_reply": "2021-09-03T14:32:50.336479Z",
     "shell.execute_reply.started": "2021-09-03T14:32:48.531893Z"
    }
   },
   "outputs": [],
   "source": [
    "loss , acc = model.evaluate(testing)"
   ]
  },
  {
   "cell_type": "code",
   "execution_count": null,
   "metadata": {
    "execution": {
     "iopub.execute_input": "2021-09-03T14:33:05.170460Z",
     "iopub.status.busy": "2021-09-03T14:33:05.170083Z",
     "iopub.status.idle": "2021-09-03T14:33:05.818406Z",
     "shell.execute_reply": "2021-09-03T14:33:05.817303Z",
     "shell.execute_reply.started": "2021-09-03T14:33:05.170422Z"
    }
   },
   "outputs": [],
   "source": [
    "acc = history.history['accuracy']\n",
    "val_acc = history.history['val_accuracy']\n",
    "loss = history.history['loss']\n",
    "val_loss = history.history['val_loss']\n",
    "\n",
    "epochs = range(len(acc))\n",
    "\n",
    "plt.plot(epochs, acc, 'b', label='Training accuracy')\n",
    "plt.plot(epochs, val_acc, 'r', label='Validation accuracy')\n",
    "plt.title('Training and validation accuracy')\n",
    "plt.legend()\n",
    "\n",
    "plt.figure()\n",
    "\n",
    "plt.plot(epochs, loss, 'b', label='Training Loss')\n",
    "plt.plot(epochs, val_loss, 'r', label='Validation Loss')\n",
    "plt.title('Training and validation loss')\n",
    "plt.legend()\n",
    "\n",
    "plt.show()"
   ]
  },
  {
   "cell_type": "code",
   "execution_count": null,
   "metadata": {},
   "outputs": [],
   "source": [
    "labels = training.class_indices\n",
    "final_labels = {v: k for k, v in labels.items()}\n",
    "final_labels"
   ]
  },
  {
   "cell_type": "code",
   "execution_count": null,
   "metadata": {},
   "outputs": [],
   "source": []
  }
 ],
 "metadata": {
  "kernelspec": {
   "display_name": "Python 3 (ipykernel)",
   "language": "python",
   "name": "python3"
  },
  "language_info": {
   "codemirror_mode": {
    "name": "ipython",
    "version": 3
   },
   "file_extension": ".py",
   "mimetype": "text/x-python",
   "name": "python",
   "nbconvert_exporter": "python",
   "pygments_lexer": "ipython3",
   "version": "3.9.12"
  },
  "vscode": {
   "interpreter": {
    "hash": "c7528ac0f7e6c5d6f1ff28595b775b72c585dc234cdf392ba2fce863fa363201"
   }
  }
 },
 "nbformat": 4,
 "nbformat_minor": 4
}
